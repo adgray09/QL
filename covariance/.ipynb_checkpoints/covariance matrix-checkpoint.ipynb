{
 "cells": [
  {
   "cell_type": "code",
   "execution_count": 45,
   "metadata": {
    "scrolled": true
   },
   "outputs": [
    {
     "name": "stdout",
     "output_type": "stream",
     "text": [
      "  Province_State Country_Region          Last_Update      Lat    Long_  \\\n",
      "0        Alabama             US  2020-04-12 23:18:15  32.3182 -86.9023   \n",
      "\n",
      "   Confirmed  Deaths  Recovered  Active  FIPS  Incident_Rate  People_Tested  \\\n",
      "0       3563      93        NaN    3470   1.0       75.98802        21583.0   \n",
      "\n",
      "   People_Hospitalized  Mortality_Rate       UID ISO3  Testing_Rate  \\\n",
      "0                437.0         2.61016  84000001  USA    460.300152   \n",
      "\n",
      "   Hospitalization_Rate  \n",
      "0             12.264945  \n",
      "0    3563\n",
      "Name: Confirmed, dtype: int64\n",
      "0    93\n",
      "Name: Deaths, dtype: int64\n",
      "0    32.3182\n",
      "Name: Lat, dtype: float64\n"
     ]
    },
    {
     "data": {
      "image/png": "[encoded data removed]",
      "text/plain": [
       "<Figure size 432x288 with 16 Axes>"
      ]
     },
     "metadata": {
      "needs_background": "light"
     },
     "output_type": "display_data"
    }
   ],
   "source": [
    "import pandas as pd\n",
    "import numpy as np\n",
    "import matplotlib.pyplot as plt\n",
    "import scipy.stats as stats \n",
    "\n",
    "\n",
    "# df = pd.DataFrame({\"A\":[7, 9, 1, 5],  \n",
    "#                    \"B\":[13, 6, 8, 1], \n",
    "#                    \"C\":[1, 3, 8, 12], \n",
    "#                    \"D\":[4, 12, 8, 10]})\n",
    "\n",
    "df = pd.read_csv('daily_update.csv')\n",
    "df.head()\n",
    "\n",
    "\n",
    "def covariance(a,b):\n",
    "    if len(a) != len(b):\n",
    "        return\n",
    "\n",
    "    a_mean = np.mean(a)\n",
    "    b_mean = np.mean(b)\n",
    "\n",
    "    sum = 0\n",
    "\n",
    "    for i in range(0, len(a)):\n",
    "        sum += ((a[i] - a_mean) * (b[i] - b_mean))\n",
    "\n",
    "    return sum/(len(a)-1)\n",
    "\n",
    "# print(covariance(df['A'], df['B']))\n",
    "# dataset = np.array([[7,9,1,5], [13, 6, 8,1]])\n",
    "# print(np.cov(dataset))\n",
    "\n",
    "alabama_subset = (df.loc[df['Province_State'] == 'Alabama'])\n",
    "print(alabama_subset)\n",
    "alabama_confirmed = (alabama_subset[\"Confirmed\"])\n",
    "alabama_deaths = (alabama_subset[\"Deaths\"])\n",
    "whatever = (alabama_subset[\"Lat\"])\n",
    "\n",
    "print(alabama_confirmed)\n",
    "print(alabama_deaths)\n",
    "print(whatever)\n",
    "# print(covariance(alabama_confirmed, alabama_deaths))\n",
    "\n",
    "\n",
    "\n",
    "\n",
    "\n",
    "\n"
   ]
  },
  {
   "cell_type": "code",
   "execution_count": null,
   "metadata": {},
   "outputs": [],
   "source": []
  },
  {
   "cell_type": "code",
   "execution_count": null,
   "metadata": {},
   "outputs": [],
   "source": []
  },
  {
   "cell_type": "code",
   "execution_count": null,
   "metadata": {},
   "outputs": [],
   "source": []
  }
 ],
 "metadata": {
  "kernelspec": {
   "display_name": "Python 3",
   "language": "python",
   "name": "python3"
  },
  "language_info": {
   "codemirror_mode": {
    "name": "ipython",
    "version": 3
   },
   "file_extension": ".py",
   "mimetype": "text/x-python",
   "name": "python",
   "nbconvert_exporter": "python",
   "pygments_lexer": "ipython3",
   "version": "3.7.4"
  }
 },
 "nbformat": 4,
 "nbformat_minor": 2
}
