{
 "cells": [
  {
   "cell_type": "code",
   "execution_count": 2,
   "metadata": {},
   "outputs": [],
   "source": [
    "# Question #1\n",
    "\n",
    "# 1A) P(employee has less than a high school education)\n",
    "    # - take all the people with less than a highschool education and divide by the amount of people \n",
    "    # P<HS / total people \n",
    "    \n",
    "# 1B) P<20,000 / total people \n",
    "\n",
    "# 1C) P>30,000 / person<high school\n",
    "\n",
    "# 1D) P<20,000 / person=college degree\n",
    "\n",
    "# 1E) A = employee earning over 30,000 B = has has school education \n",
    "        # answer = P(A|B) * P(B)\n",
    "            \n",
    "# 1F) A = Has < high school education B = earns over 30,000\n",
    "        # answer = P(A|B) * P(B)\n",
    "    "
   ]
  },
  {
   "cell_type": "code",
   "execution_count": 3,
   "metadata": {},
   "outputs": [],
   "source": [
    "# Question #2 \n",
    "\n",
    "# 2A) P(male)\n",
    "# -   (# of males) / (# of people)\n",
    "\n",
    "# 2B) (# of males + chemistry majors) / (# of people)\n",
    "\n",
    "# 2C) (# of males in chemistry) / (# of males)"
   ]
  },
  {
   "cell_type": "code",
   "execution_count": 4,
   "metadata": {},
   "outputs": [],
   "source": [
    "# Question #3\n",
    "\n",
    "# 3A) 10/10 = 100%\n",
    "\n",
    "# 3B) (numbers < 10) / (numbers < 13)\n",
    "\n",
    "# 3C) (numbers > 8 and < 11) / (numbers < 11) = 2/6\n",
    "\n",
    "# 3D) 100% because if the number is greater than 12 it will always be greater than 7"
   ]
  },
  {
   "cell_type": "code",
   "execution_count": 5,
   "metadata": {},
   "outputs": [],
   "source": [
    "# Question #4 \n",
    "\n",
    "# 4B) 6.25"
   ]
  },
  {
   "cell_type": "code",
   "execution_count": 1,
   "metadata": {},
   "outputs": [],
   "source": [
    "# Question 5\n",
    "\n",
    "# 5B) .616\n",
    "\n",
    "# 5C) .691\n",
    "\n",
    "# 5D) .891\n"
   ]
  },
  {
   "cell_type": "code",
   "execution_count": 2,
   "metadata": {},
   "outputs": [],
   "source": [
    "# Question 6 \n",
    "\n",
    "# 6A) 3/13\n",
    "\n",
    "# 6B) 3/5"
   ]
  },
  {
   "cell_type": "code",
   "execution_count": 3,
   "metadata": {},
   "outputs": [],
   "source": [
    "# Question 7\n",
    "\n",
    "# 7A) 21%\n",
    "\n",
    "# 7B) 6%"
   ]
  },
  {
   "cell_type": "code",
   "execution_count": 4,
   "metadata": {},
   "outputs": [],
   "source": [
    "# Question 8\n",
    "\n",
    "# 8B) 1/6\n",
    "\n",
    "# 8C) 1/4\n",
    "\n",
    "# 8D) 3/5\n",
    "\n",
    "# 8E) 1/3\n",
    "\n",
    "# 8F) 1/6 * 3/4 = 0.125"
   ]
  },
  {
   "cell_type": "code",
   "execution_count": 5,
   "metadata": {},
   "outputs": [],
   "source": [
    "# Question 9\n",
    "\n",
    "# 9A) 39 / 334\n",
    "\n",
    "# 9B) \n",
    "\n",
    "# 9C) 76/ 362\n",
    "\n",
    "# 9D) 76/161\n",
    "\n",
    "# 9E) 48/334\n",
    "\n",
    "# 9F) 58/362 \n",
    "\n",
    "# 9G) 68/139\n",
    "\n",
    "# 9H) 41/13"
   ]
  },
  {
   "cell_type": "code",
   "execution_count": null,
   "metadata": {},
   "outputs": [],
   "source": [
    "# Question 10\n",
    "\n",
    "# answer .5818"
   ]
  }
 ],
 "metadata": {
  "kernelspec": {
   "display_name": "Python 3",
   "language": "python",
   "name": "python3"
  },
  "language_info": {
   "codemirror_mode": {
    "name": "ipython",
    "version": 3
   },
   "file_extension": ".py",
   "mimetype": "text/x-python",
   "name": "python",
   "nbconvert_exporter": "python",
   "pygments_lexer": "ipython3",
   "version": "3.7.4"
  }
 },
 "nbformat": 4,
 "nbformat_minor": 2
}
