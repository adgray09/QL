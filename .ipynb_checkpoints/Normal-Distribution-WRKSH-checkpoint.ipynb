{
 "cells": [
  {
   "cell_type": "markdown",
   "metadata": {},
   "source": [
    "<h1>2</h1>\n",
    "<p> 2. Former ISU basketball player Kelvin Cato is 83 inches tall. Assuming that heights follow approximately\n",
    "a normal distribution with mean 70 and standard deviation \u001b = 3, </p>\n",
    "\n",
    "\n",
    "<p> (a) what is his corresponding z-score? </p>\n",
    "\n",
    "\n",
    "<p> (b) what proportion of men are taller than him? </p>"
   ]
  },
  {
   "cell_type": "code",
   "execution_count": 4,
   "metadata": {},
   "outputs": [
    {
     "name": "stdout",
     "output_type": "stream",
     "text": [
      "Kelvins z-score is 4.333333333333333\n",
      "0% of men are taller than him\n"
     ]
    }
   ],
   "source": [
    "kel_mean = 70\n",
    "kel_std = 3\n",
    "kel_height = 83\n",
    "\n",
    "kel_z_score = (kel_height - kel_mean)/kel_std\n",
    "print(\"Kelvins z-score is\", kel_z_score)\n",
    "print(\"0% of men are taller than him\")"
   ]
  },
  {
   "cell_type": "markdown",
   "metadata": {},
   "source": [
    "<h1>3</h1>\n",
    "<p>Since the length of a downhill ski is related to the height of the individuals renting them, it is fair\n",
    "to assume that a normal distribution would describe the length of women’s skis at rental outlets in\n",
    "Colorado. The mean of the distribution is 150 cm and the standard deviation is 10 cm.</p>\n",
    "<p> (a) What is the proportion of women’s ski lengths that are less than 130 cm? </p>\n",
    "<p> (b) What is the proportion of women’s ski lengths that are greater than 125 cm? </p>\n",
    "<p>(c) What is the proportion of women’s ski lengths that are between 125 and 155?</p>\n",
    "<p>(d) Very long skies are expensive and there are not many people who rent them. What is the longest\n",
    "women’s ski a rental shop should carry so that only 2 percent of the costumers will ask to rent\n",
    "a longer ski?</p>"
   ]
  },
  {
   "cell_type": "code",
   "execution_count": 16,
   "metadata": {},
   "outputs": [
    {
     "name": "stdout",
     "output_type": "stream",
     "text": [
      "-2.0 | 2.28%\n"
     ]
    }
   ],
   "source": [
    "ski_mean = 150\n",
    "ski_std = 10\n",
    "\n",
    "z_score_130 = (130 - ski_mean)/ski_std\n",
    "\n",
    "print(z_score_130,\"| 2.28%\")"
   ]
  },
  {
   "cell_type": "code",
   "execution_count": 15,
   "metadata": {},
   "outputs": [
    {
     "name": "stdout",
     "output_type": "stream",
     "text": [
      "-2.5 | 99.38%\n"
     ]
    }
   ],
   "source": [
    "z_score_125 = (125 - ski_mean)/ski_std\n",
    "\n",
    "print(z_score_125, \"| 99.38%\")"
   ]
  },
  {
   "cell_type": "code",
   "execution_count": 17,
   "metadata": {},
   "outputs": [
    {
     "name": "stdout",
     "output_type": "stream",
     "text": [
      "0.5 | 68.53%\n"
     ]
    }
   ],
   "source": [
    "z_score_155 = (155 - ski_mean)/ski_std\n",
    "\n",
    "print(z_score_155, \"| 68.53%\")"
   ]
  },
  {
   "cell_type": "code",
   "execution_count": 21,
   "metadata": {},
   "outputs": [
    {
     "name": "stdout",
     "output_type": "stream",
     "text": [
      "170.54cm\n"
     ]
    }
   ],
   "source": [
    "z_score_98_percentile = 2.054\n",
    "largest_ski = (z_score_98_percentile * ski_std) + ski_mean\n",
    "\n",
    "print(f'{largest_ski}cm')"
   ]
  },
  {
   "cell_type": "markdown",
   "metadata": {},
   "source": [
    "<h1> 4 </h1> \n",
    "\n",
    "<p> The BMI for males age 20 to 74 is follows approximately a normal distribution with mean µ = 27.9 and standard deviation σ = 7.8. Use the 68-95-99.7 rule to find </p>\n",
    "\n",
    "<p> (a) the percentage of males with BMI less than 20.1. </p>\n",
    "\n",
    "<p> (b) the percentages of males with BMI greater than 12.3. </p>\n",
    "\n",
    "<p> (c) the BMI values that correspond to the middle 99.7% of the distribution. </p>\n",
    "\n",
    "<p> (d) the value such that 0.15% of males have BMI’s greater than the value. </p>"
   ]
  },
  {
   "cell_type": "code",
   "execution_count": 3,
   "metadata": {},
   "outputs": [
    {
     "name": "stdout",
     "output_type": "stream",
     "text": [
      "-0.9999999999999997 | 16.6%\n"
     ]
    }
   ],
   "source": [
    "bmi_mean = 27.9 \n",
    "bmi_std = 7.8\n",
    "\n",
    "less_twenty = (20.1 - bmi_mean)/bmi_std\n",
    "\n",
    "print(less_twenty, \"| 16.6%\")"
   ]
  },
  {
   "cell_type": "code",
   "execution_count": 5,
   "metadata": {},
   "outputs": [
    {
     "name": "stdout",
     "output_type": "stream",
     "text": [
      "-1.9999999999999998 | 97.7%\n"
     ]
    }
   ],
   "source": [
    "great_twelve = (12.3 - bmi_mean)/bmi_std\n",
    "\n",
    "print(great_twelve, \"| 97.7%\")"
   ]
  },
  {
   "cell_type": "code",
   "execution_count": 8,
   "metadata": {},
   "outputs": [
    {
     "name": "stdout",
     "output_type": "stream",
     "text": [
      "4.5 | 51.3\n"
     ]
    }
   ],
   "source": [
    "upper = bmi_mean - (3 * bmi_std)\n",
    "lower = bmi_mean + (3 * bmi_std)\n",
    "\n",
    "print(upper,\"|\", lower)"
   ]
  },
  {
   "cell_type": "code",
   "execution_count": 13,
   "metadata": {},
   "outputs": [
    {
     "name": "stdout",
     "output_type": "stream",
     "text": [
      "51.050399999999996\n"
     ]
    }
   ],
   "source": [
    "z_score_99_percentile = 2.968\n",
    "\n",
    "answer = (z_score_99_percentile * bmi_std) + bmi_mean\n",
    "\n",
    "print(answer)"
   ]
  },
  {
   "cell_type": "code",
   "execution_count": null,
   "metadata": {},
   "outputs": [],
   "source": []
  }
 ],
 "metadata": {
  "kernelspec": {
   "display_name": "Python 3",
   "language": "python",
   "name": "python3"
  },
  "language_info": {
   "codemirror_mode": {
    "name": "ipython",
    "version": 3
   },
   "file_extension": ".py",
   "mimetype": "text/x-python",
   "name": "python",
   "nbconvert_exporter": "python",
   "pygments_lexer": "ipython3",
   "version": "3.7.4"
  }
 },
 "nbformat": 4,
 "nbformat_minor": 2
}
