{
 "cells": [
  {
   "cell_type": "code",
   "execution_count": 2,
   "metadata": {},
   "outputs": [
    {
     "name": "stdout",
     "output_type": "stream",
     "text": [
      "50.27\n"
     ]
    }
   ],
   "source": [
    "import math\n",
    "\n",
    "# finding area of a sphere \n",
    "\n",
    "def find_area(radius):\n",
    "    area = 4 * math.pi * radius**2\n",
    "    return area\n",
    "\n",
    "answer = find_area(2)\n",
    "\n",
    "print(round(answer, 2))"
   ]
  },
  {
   "cell_type": "code",
   "execution_count": 3,
   "metadata": {},
   "outputs": [
    {
     "name": "stdout",
     "output_type": "stream",
     "text": [
      "6.0\n"
     ]
    }
   ],
   "source": [
    "import math \n",
    "\n",
    "# find area of a trapezium\n",
    "\n",
    "def find_area(a, b, height):\n",
    "    answer = ((a+b) / 2) * height\n",
    "    return answer\n",
    "\n",
    "area = find_area(2,4,2)\n",
    "\n",
    "print(area)"
   ]
  },
  {
   "cell_type": "code",
   "execution_count": 4,
   "metadata": {},
   "outputs": [
    {
     "name": "stdout",
     "output_type": "stream",
     "text": [
      "94.25\n"
     ]
    }
   ],
   "source": [
    "import math\n",
    "\n",
    "def circumference(radius):\n",
    "    circum = 2 * math.pi * radius\n",
    "    return circum\n",
    "\n",
    "answer = circumference(15)\n",
    "\n",
    "print(round(answer, 2))"
   ]
  },
  {
   "cell_type": "code",
   "execution_count": 5,
   "metadata": {},
   "outputs": [
    {
     "name": "stdout",
     "output_type": "stream",
     "text": [
      "3.0\n"
     ]
    }
   ],
   "source": [
    "import math\n",
    "\n",
    "# find mean of list of number \n",
    "\n",
    "def find_mean(numbers):\n",
    "    numerator = sum(numbers)\n",
    "    denominator = len(numbers)\n",
    "    answer = numerator / denominator\n",
    "    return answer\n",
    "\n",
    "\n",
    "example_numbers = [1,2,3,4,5]\n",
    "mean = find_mean(example_numbers)\n",
    "print(mean)\n",
    "    \n",
    "    "
   ]
  },
  {
   "cell_type": "code",
   "execution_count": 7,
   "metadata": {},
   "outputs": [
    {
     "name": "stdout",
     "output_type": "stream",
     "text": [
      "4.8\n"
     ]
    }
   ],
   "source": [
    "numbers = [1,3,5,7,8]\n",
    "\n",
    "# second mean solution\n",
    "\n",
    "def find_mean(numbers):\n",
    "    total = 0\n",
    "    for i in range(len(numbers)):\n",
    "        total += numbers[i]\n",
    "    \n",
    "    mean = total/len(numbers)\n",
    "    \n",
    "    return mean\n",
    "\n",
    "print(find_mean(numbers))\n",
    "    \n",
    "    "
   ]
  },
  {
   "cell_type": "code",
   "execution_count": 26,
   "metadata": {},
   "outputs": [
    {
     "name": "stdout",
     "output_type": "stream",
     "text": [
      "2.5612\n"
     ]
    }
   ],
   "source": [
    "# stand deviation solution\n",
    "# stand deviation solution\n",
    "import math\n",
    "\n",
    "\n",
    "def std(s):\n",
    "    total = 0\n",
    "    for i in range(len(s)):\n",
    "        total += (s[i] - find_mean(s))**2\n",
    "    std = math.sqrt(total/len(s))\n",
    "    \n",
    "    return round(std,4)\n",
    "\n",
    "print(std(numbers))\n",
    "        \n",
    "    \n",
    "\n"
   ]
  },
  {
   "cell_type": "code",
   "execution_count": null,
   "metadata": {},
   "outputs": [],
   "source": []
  }
 ],
 "metadata": {
  "kernelspec": {
   "display_name": "Python 3",
   "language": "python",
   "name": "python3"
  },
  "language_info": {
   "codemirror_mode": {
    "name": "ipython",
    "version": 3
   },
   "file_extension": ".py",
   "mimetype": "text/x-python",
   "name": "python",
   "nbconvert_exporter": "python",
   "pygments_lexer": "ipython3",
   "version": "3.7.4"
  }
 },
 "nbformat": 4,
 "nbformat_minor": 2
}
