{
 "cells": [
  {
   "cell_type": "code",
   "execution_count": 4,
   "metadata": {},
   "outputs": [],
   "source": [
    "spam = {\n",
    "    \"password\": 2,\n",
    "    \"review\": 1,\n",
    "    \"send\": 3,\n",
    "    \"us\": 3,\n",
    "    \"your\": 3,\n",
    "    \"account\": 1\n",
    "}"
   ]
  },
  {
   "cell_type": "code",
   "execution_count": 5,
   "metadata": {},
   "outputs": [
    {
     "name": "stdout",
     "output_type": "stream",
     "text": [
      "0.15384615384615385\n"
     ]
    }
   ],
   "source": [
    "# or \n",
    "p_password_given_spam = spam['password']/sum(spam.values())\n",
    "print(p_password_given_spam)"
   ]
  },
  {
   "cell_type": "code",
   "execution_count": 6,
   "metadata": {},
   "outputs": [],
   "source": [
    "ham = {\n",
    "    \"password\": 1,\n",
    "    \"review\": 2,\n",
    "    \"send\": 1,\n",
    "    \"us\": 1,\n",
    "    \"your\": 1,\n",
    "    \"account\": 0\n",
    "}"
   ]
  },
  {
   "cell_type": "code",
   "execution_count": 7,
   "metadata": {},
   "outputs": [
    {
     "name": "stdout",
     "output_type": "stream",
     "text": [
      "0.16666666666666666\n"
     ]
    }
   ],
   "source": [
    "p_password_given_ham = ham['password']/sum(ham.values())\n",
    "print(p_password_given_ham)"
   ]
  },
  {
   "cell_type": "code",
   "execution_count": 8,
   "metadata": {},
   "outputs": [
    {
     "name": "stdout",
     "output_type": "stream",
     "text": [
      "0.1581196581196581\n",
      "0.6486486486486487\n"
     ]
    }
   ],
   "source": [
    "p_spam = 4/6\n",
    "p_ham = 2/6\n",
    "p_password = p_password_given_spam*p_spam + p_password_given_ham*p_ham \n",
    "print(p_password)\n",
    "p_spam_given_password = p_password_given_spam*p_spam/p_password\n",
    "print(p_spam_given_password)"
   ]
  },
  {
   "cell_type": "code",
   "execution_count": 13,
   "metadata": {},
   "outputs": [
    {
     "name": "stdout",
     "output_type": "stream",
     "text": [
      "password\n",
      "probability of the word assuming email is ham = 0.16666666666666666\n",
      "probability of the word assuming email is spam = 0.15384615384615385\n",
      "0.6486486486486487 probability of word belonging to spam\n",
      "0.35135135135135137 probability of word belonging to ham  \n",
      "\n",
      "review\n",
      "probability of the word assuming email is ham = 0.3333333333333333\n",
      "probability of the word assuming email is spam = 0.07692307692307693\n",
      "0.31578947368421056 probability of word belonging to spam\n",
      "0.6842105263157895 probability of word belonging to ham  \n",
      "\n",
      "send\n",
      "probability of the word assuming email is ham = 0.16666666666666666\n",
      "probability of the word assuming email is spam = 0.23076923076923078\n",
      "0.7346938775510204 probability of word belonging to spam\n",
      "0.26530612244897955 probability of word belonging to ham  \n",
      "\n",
      "us\n",
      "probability of the word assuming email is ham = 0.16666666666666666\n",
      "probability of the word assuming email is spam = 0.23076923076923078\n",
      "0.7346938775510204 probability of word belonging to spam\n",
      "0.26530612244897955 probability of word belonging to ham  \n",
      "\n",
      "your\n",
      "probability of the word assuming email is ham = 0.16666666666666666\n",
      "probability of the word assuming email is spam = 0.23076923076923078\n",
      "0.7346938775510204 probability of word belonging to spam\n",
      "0.26530612244897955 probability of word belonging to ham  \n",
      "\n",
      "account\n",
      "probability of the word assuming email is ham = 0.0\n",
      "probability of the word assuming email is spam = 0.07692307692307693\n",
      "1.0 probability of word belonging to spam\n",
      "0.0 probability of word belonging to ham  \n",
      "\n"
     ]
    }
   ],
   "source": [
    "p_spam = 4/6\n",
    "p_ham = 2/6\n",
    "for i in spam:\n",
    "    print(i)\n",
    "    p_word_given_spam = spam[i]/sum(spam.values())\n",
    "    p_word_given_ham = ham[i]/sum(ham.values())\n",
    "    # obtain the probability of each word by assuming the email is ham \n",
    "    print(\"probability of the word assuming email is ham =\", p_word_given_ham)\n",
    "    # obtain the probability of each word by assuming the email is spam\n",
    "    print(\"probability of the word assuming email is spam =\", p_word_given_spam)\n",
    "    \n",
    "    p_word = p_word_given_spam*p_spam + p_word_given_ham*p_ham \n",
    "    p_spam_given_word = p_word_given_spam*p_spam/p_word\n",
    "    p_ham_given_word = p_word_given_ham*p_ham/p_word\n",
    "    \n",
    "    \n",
    "    # obtain the probability that for a seen word it belongs to spam email\n",
    "    \n",
    "    print(\"probability of word belonging to spam =\", p_spam_given_word)\n",
    "    \n",
    "    # obtain the probability that for a seen word it belongs to ham email\n",
    "    \n",
    "    print(\"probability of word belonging to ham =\", p_ham_given_word, \"\\n\")\n",
    "    \n",
    "    \n",
    "    \n",
    "    #TODO"
   ]
  },
  {
   "cell_type": "code",
   "execution_count": null,
   "metadata": {},
   "outputs": [],
   "source": []
  },
  {
   "cell_type": "code",
   "execution_count": null,
   "metadata": {},
   "outputs": [],
   "source": []
  },
  {
   "cell_type": "code",
   "execution_count": null,
   "metadata": {},
   "outputs": [],
   "source": []
  }
 ],
 "metadata": {
  "kernelspec": {
   "display_name": "Python 3",
   "language": "python",
   "name": "python3"
  },
  "language_info": {
   "codemirror_mode": {
    "name": "ipython",
    "version": 3
   },
   "file_extension": ".py",
   "mimetype": "text/x-python",
   "name": "python",
   "nbconvert_exporter": "python",
   "pygments_lexer": "ipython3",
   "version": "3.7.4"
  }
 },
 "nbformat": 4,
 "nbformat_minor": 2
}
